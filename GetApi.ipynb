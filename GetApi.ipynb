{
 "cells": [
  {
   "cell_type": "code",
   "execution_count": 6,
   "metadata": {},
   "outputs": [
    {
     "name": "stdout",
     "output_type": "stream",
     "text": [
      "200\n",
      "Nombre de station :  2378\n"
     ]
    }
   ],
   "source": [
    "import requests\n",
    "\n",
    "\n",
    "API_KEY = 'e0a1bf2c844edb9084efc764c089dd748676cc14'\n",
    "API_URL_STATIONS = 'https://api.jcdecaux.com/vls/v3/stations'\n",
    "API_URL_CONTRACTS = 'https://api.jcdecaux.com/vls/v3/contracts'\n",
    "\n",
    "\n",
    "params = {'apiKey': API_KEY}\n",
    "\n",
    "\n",
    "\n",
    "response = requests.get(API_URL_STATIONS,params=params)\n",
    "print(response.status_code)\n",
    "\n",
    "if response.status_code == 200:\n",
    "    stations = response.json()\n",
    "    print('Nombre de station : ', len(stations))\n",
    "else:\n",
    "    print(\"Erreur en cherchant les données:\", response.status_code)"
   ]
  },
  {
   "cell_type": "code",
   "execution_count": 2,
   "metadata": {},
   "outputs": [
    {
     "name": "stdout",
     "output_type": "stream",
     "text": [
      "{'number': 55, 'contractName': 'toulouse', 'name': '00055 - SAINT-SERNIN - G. ARNOULT', 'address': '2 RUE GATIEN ARNOULT', 'position': {'latitude': 43.609022, 'longitude': 1.441105}, 'banking': True, 'bonus': False, 'status': 'OPEN', 'lastUpdate': '2024-04-19T23:25:58Z', 'connected': True, 'overflow': False, 'shape': None, 'totalStands': {'availabilities': {'bikes': 8, 'stands': 7, 'mechanicalBikes': 8, 'electricalBikes': 0, 'electricalInternalBatteryBikes': 0, 'electricalRemovableBatteryBikes': 0}, 'capacity': 15}, 'mainStands': {'availabilities': {'bikes': 8, 'stands': 7, 'mechanicalBikes': 8, 'electricalBikes': 0, 'electricalInternalBatteryBikes': 0, 'electricalRemovableBatteryBikes': 0}, 'capacity': 15}, 'overflowStands': None}\n"
     ]
    }
   ],
   "source": [
    "print(stations[0])\n",
    "    "
   ]
  },
  {
   "cell_type": "code",
   "execution_count": 8,
   "metadata": {},
   "outputs": [],
   "source": [
    "from collections import defaultdict"
   ]
  },
  {
   "cell_type": "code",
   "execution_count": 9,
   "metadata": {},
   "outputs": [],
   "source": [
    "\n",
    "#Créons un dictionnaire pour stocker  les données facilement\n",
    "city_stats = defaultdict(lambda: {'mechanical': 0, 'electrical':0,'total_velo':0})\n",
    "\n",
    "\n",
    "#Parcours des donnees pour collecter les champs de statistiques utile\n",
    "for station in stations: \n",
    "    city = station['contractName']\n",
    "    velo_mechaniques = station['totalStands']['availabilities']['mechanicalBikes']\n",
    "    velo_electrique = station['totalStands']['availabilities']['electricalBikes']\n",
    "    \n",
    "    #On ajoute nouveau valeurs aux valeur existant pour chaque ville\n",
    "    city_stats[city]['mechanical'] += velo_mechaniques\n",
    "    city_stats[city]['electrical'] += velo_electrique\n",
    "    city_stats[city]['total_velo'] += (velo_mechaniques + velo_electrique)\n",
    "    "
   ]
  },
  {
   "cell_type": "code",
   "execution_count": 10,
   "metadata": {},
   "outputs": [
    {
     "name": "stdout",
     "output_type": "stream",
     "text": [
      "Affichage des villes avec le plus de vélo en indiquant le pourcentage de chaque type de velo par ville\n",
      "Pourcentage à lyon: Velo_mechanique:56.15% | Velo_electrique:43.85% | Total Velo: 4055\n",
      "Pourcentage à bruxelles: Velo_mechanique:58.40% | Velo_electrique:41.60% | Total Velo: 3779\n",
      "Pourcentage à toulouse: Velo_mechanique:100.00% | Velo_electrique:0.00% | Total Velo: 2540\n",
      "Pourcentage à seville: Velo_mechanique:100.00% | Velo_electrique:0.00% | Total Velo: 2473\n",
      "Pourcentage à valence: Velo_mechanique:100.00% | Velo_electrique:0.00% | Total Velo: 2418\n",
      "Pourcentage à dublin: Velo_mechanique:65.27% | Velo_electrique:34.73% | Total Velo: 1382\n",
      "Pourcentage à luxembourg: Velo_mechanique:0.00% | Velo_electrique:100.00% | Total Velo: 1144\n",
      "Pourcentage à nantes: Velo_mechanique:100.00% | Velo_electrique:0.00% | Total Velo: 1019\n",
      "Pourcentage à ljubljana: Velo_mechanique:100.00% | Velo_electrique:0.00% | Total Velo: 700\n",
      "Pourcentage à vilnius: Velo_mechanique:100.00% | Velo_electrique:0.00% | Total Velo: 284\n",
      "Pourcentage à nancy: Velo_mechanique:100.00% | Velo_electrique:0.00% | Total Velo: 276\n",
      "Pourcentage à cergy-pontoise: Velo_mechanique:100.00% | Velo_electrique:0.00% | Total Velo: 274\n",
      "Pourcentage à maribor: Velo_mechanique:100.00% | Velo_electrique:0.00% | Total Velo: 269\n",
      "Pourcentage à lund: Velo_mechanique:100.00% | Velo_electrique:0.00% | Total Velo: 240\n",
      "Pourcentage à amiens: Velo_mechanique:100.00% | Velo_electrique:0.00% | Total Velo: 234\n",
      "Pourcentage à mulhouse: Velo_mechanique:100.00% | Velo_electrique:0.00% | Total Velo: 228\n",
      "Pourcentage à namur: Velo_mechanique:100.00% | Velo_electrique:0.00% | Total Velo: 212\n",
      "Pourcentage à toyama: Velo_mechanique:100.00% | Velo_electrique:0.00% | Total Velo: 206\n",
      "Pourcentage à besancon: Velo_mechanique:100.00% | Velo_electrique:0.00% | Total Velo: 190\n",
      "Pourcentage à creteil: Velo_mechanique:100.00% | Velo_electrique:0.00% | Total Velo: 78\n",
      "Pourcentage à lillestrom: Velo_mechanique:100.00% | Velo_electrique:0.00% | Total Velo: 40\n",
      "Pourcentage à jcdecauxbike: Velo_mechanique:10.00% | Velo_electrique:90.00% | Total Velo: 20\n"
     ]
    }
   ],
   "source": [
    "print(\"Affichage des villes avec le plus de vélo en indiquant le pourcentage de chaque type de velo par ville\")\n",
    "\n",
    "#On trie les villes avec nombre de vélos totale dans cette ville\n",
    "city_stats_sorted = sorted(city_stats.items(), key=lambda x: x[1]['total_velo'], reverse=True)\n",
    "\n",
    "\n",
    "\n",
    "# Calcul du pourcentage de vélos mécaniques par rapport aux vélos électriques pour chaque ville\n",
    "for city, stats in city_stats_sorted:\n",
    "        total_velo = stats['total_velo']\n",
    "        if total_velo > 0:\n",
    "            pourcentage_mechanique = (stats['mechanical'] / total_velo) * 100\n",
    "            pourcentage_electrique = 100 - pourcentage_mechanique\n",
    "            print(f\"Pourcentage à {city}: Velo_mechanique:{pourcentage_mechanique:.2f}% | Velo_electrique:{pourcentage_electrique:.2f}% | Total Velo: {total_velo}\")\n",
    "        else:\n",
    "            print(f\"Aucun vélo trouvé à {city}\")"
   ]
  },
  {
   "cell_type": "code",
   "execution_count": 11,
   "metadata": {},
   "outputs": [],
   "source": [
    "import random\n",
    "import folium\n",
    "\n",
    "#On choisi aléatoirement une station\n",
    "random_station = random.choice(stations)\n",
    "station_name = random_station['name']\n",
    "station_address = random_station['address']\n",
    "station_lat = random_station['position']['latitude']\n",
    "station_lng = random_station['position']['longitude']\n",
    "\n",
    "# Création de la carte centrée sur une position aleatoire choisi a partir des données stations\n",
    "map = folium.Map(location=[station_lat, station_lng], zoom_start=12)\n",
    "\n",
    "# Parcours des données des stations pour ajouter des marqueurs sur la carte\n",
    "for station in stations:\n",
    "    station_name = station['name']\n",
    "    station_address = station['address']\n",
    "    station_ville = station['contractName']\n",
    "    station_lat = station['position']['latitude']\n",
    "    station_lng = station['position']['longitude']\n",
    "\n",
    "    # Création d'un marqueur pour chaque station avec des informations supplémentaires dans la popup\n",
    "    folium.Marker(\n",
    "        location=[station_lat, station_lng],\n",
    "        popup=f\"<b>{station_name}</b><br>{station_address},{station_ville}\",\n",
    "        tooltip=station_name\n",
    "    ).add_to(map)\n",
    "\n",
    "# # sauvegarde de la carte\n",
    "map.save('stations_map.html')\n",
    "#Affichage dans  un navigateur (ou en utilisant un serveur local)\n",
    "\n"
   ]
  }
 ],
 "metadata": {
  "kernelspec": {
   "display_name": "Python 3",
   "language": "python",
   "name": "python3"
  },
  "language_info": {
   "codemirror_mode": {
    "name": "ipython",
    "version": 3
   },
   "file_extension": ".py",
   "mimetype": "text/x-python",
   "name": "python",
   "nbconvert_exporter": "python",
   "pygments_lexer": "ipython3",
   "version": "3.11.9"
  }
 },
 "nbformat": 4,
 "nbformat_minor": 2
}
